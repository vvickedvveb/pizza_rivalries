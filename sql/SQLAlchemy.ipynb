{
 "cells": [
  {
   "cell_type": "code",
   "execution_count": 1,
   "id": "7608debc-f5a0-4a6d-9852-29bb431e67e0",
   "metadata": {},
   "outputs": [],
   "source": [
    "import sqlalchemy as db\n",
    "engine = db.create_engine('sqlite:///StockQuotes.db')\n",
    "connection = engine.connect()\n",
    "metadata = db.MetaData()\n",
    "\n",
    "company_tbl = db.Table('Company', metadata, autoload=True, autoload_with=engine)\n",
    "stock_quotes_tbl = db.Table('Stock_Quotes', metadata, autoload=True, autoload_with=engine)"
   ]
  },
  {
   "cell_type": "code",
   "execution_count": 2,
   "id": "b62c3b78-74d6-43bf-9358-c10888600e55",
   "metadata": {},
   "outputs": [
    {
     "name": "stdout",
     "output_type": "stream",
     "text": [
      "Company Cols: ['id', 'company', 'ticker'] \n",
      "Quote Cols: ['id', 'str_date', 'date', 'open', 'high', 'low', 'close', 'adj_close', 'volume', 'created', 'updated', 'company_id']\n"
     ]
    }
   ],
   "source": [
    "print(\n",
    "    'Company Cols:', company_tbl.columns.keys(),'\\n'\n",
    "    'Quote Cols:',stock_quotes_tbl.columns.keys()\n",
    ")"
   ]
  },
  {
   "cell_type": "code",
   "execution_count": 3,
   "id": "9665f24c-2093-4236-9add-15812200e0ff",
   "metadata": {},
   "outputs": [],
   "source": [
    "#metadata.tables['Stock_Quotes']"
   ]
  },
  {
   "cell_type": "code",
   "execution_count": 4,
   "id": "75facfe1-3c96-459a-96ef-6c867766c77d",
   "metadata": {},
   "outputs": [
    {
     "name": "stdout",
     "output_type": "stream",
     "text": [
      "1\n",
      "Papa John's\n",
      "PZZA\n",
      "2\n",
      "Domino's Pizza\n",
      "DPZ\n"
     ]
    }
   ],
   "source": [
    "companies = db.select([company_tbl])\n",
    "\n",
    "ResultProxy = connection.execute(companies)\n",
    "\n",
    "ResultSet = ResultProxy.fetchall()\n",
    "ResultSet\n",
    "\n",
    "for cos in ResultSet:\n",
    "    for co in cos:\n",
    "        print(co)"
   ]
  },
  {
   "cell_type": "code",
   "execution_count": 5,
   "id": "8f505b99-0de3-48b9-b53d-01296f428d86",
   "metadata": {},
   "outputs": [
    {
     "data": {
      "text/plain": [
       "'PZZA'"
      ]
     },
     "execution_count": 5,
     "metadata": {},
     "output_type": "execute_result"
    }
   ],
   "source": [
    "query = ''\n",
    "sql_q = db.select([company_tbl.columns.ticker]).where(company_tbl.columns.id == 1)\n",
    "ResultProxy = connection.execute(sql_q)\n",
    "ResultSet = ResultProxy.fetchone()[0]\n",
    "ResultSet\n",
    "\n",
    "#query = query.select_from(census.join(state_fact, census.columns.state == state_fact.columns.name))"
   ]
  },
  {
   "cell_type": "code",
   "execution_count": null,
   "id": "70621fb5-00f3-41f5-9d48-b6916fafebca",
   "metadata": {},
   "outputs": [],
   "source": []
  }
 ],
 "metadata": {
  "kernelspec": {
   "display_name": "Python 3 (ipykernel)",
   "language": "python",
   "name": "python3"
  },
  "language_info": {
   "codemirror_mode": {
    "name": "ipython",
    "version": 3
   },
   "file_extension": ".py",
   "mimetype": "text/x-python",
   "name": "python",
   "nbconvert_exporter": "python",
   "pygments_lexer": "ipython3",
   "version": "3.8.6"
  }
 },
 "nbformat": 4,
 "nbformat_minor": 5
}
