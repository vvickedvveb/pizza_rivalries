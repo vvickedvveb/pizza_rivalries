{
 "cells": [
  {
   "cell_type": "code",
   "execution_count": null,
   "id": "5ae33939-becd-4f16-ad8f-eae650c7c2a7",
   "metadata": {},
   "outputs": [],
   "source": [
    "def my_calc(x,y):\n",
    "    return x+y\n",
    "\n",
    "def my_get_full_name(dict_stock_cos):\n",
    "    return pizza_cos.keys()\n",
    "    #co_name = list(co_name)\n",
    "\n",
    "    #papa_name = co_name[0].replace('_', ' ')[0:-1].title() + '\\'s'\n",
    "\n",
    "    #dominos_name = co_name[1][0:-1].title() + '\\'s'\n",
    "    #print(papa_name, dominos_name)"
   ]
  },
  {
   "cell_type": "code",
   "execution_count": null,
   "id": "c8fb0abb-27d8-4a37-b25f-8ed6a89d126a",
   "metadata": {},
   "outputs": [],
   "source": []
  }
 ],
 "metadata": {
  "kernelspec": {
   "display_name": "Python 3 (ipykernel)",
   "language": "python",
   "name": "python3"
  },
  "language_info": {
   "codemirror_mode": {
    "name": "ipython",
    "version": 3
   },
   "file_extension": ".py",
   "mimetype": "text/x-python",
   "name": "python",
   "nbconvert_exporter": "python",
   "pygments_lexer": "ipython3",
   "version": "3.8.6"
  }
 },
 "nbformat": 4,
 "nbformat_minor": 5
}
